{
 "cells": [
  {
   "cell_type": "code",
   "execution_count": 1,
   "id": "f239d312",
   "metadata": {},
   "outputs": [],
   "source": [
    "import pandas as pd\n",
    "\n",
    "# Assuming you have a DataFrame named 'df' with a 'Region' column\n",
    "# You can read your dataset into a DataFrame like this:\n",
    "df = pd.read_csv('final_dataset.csv')\n",
    "\n",
    "# To filter the rows containing 'Northwest Territories' in the 'Region' column:\n",
    "filtered_df = df[df['Region'] == 'Northwest Territories']\n",
    "\n",
    "# Now, 'filtered_df' contains only the rows with 'Region' equal to 'Northwest Territories'.\n"
   ]
  },
  {
   "cell_type": "code",
   "execution_count": 2,
   "id": "93cde2b7",
   "metadata": {},
   "outputs": [],
   "source": [
    "filtered_df.to_csv('filtered_data.csv', index=False)\n"
   ]
  },
  {
   "cell_type": "code",
   "execution_count": null,
   "id": "ba61217f",
   "metadata": {},
   "outputs": [],
   "source": []
  }
 ],
 "metadata": {
  "kernelspec": {
   "display_name": "Python 3 (ipykernel)",
   "language": "python",
   "name": "python3"
  },
  "language_info": {
   "codemirror_mode": {
    "name": "ipython",
    "version": 3
   },
   "file_extension": ".py",
   "mimetype": "text/x-python",
   "name": "python",
   "nbconvert_exporter": "python",
   "pygments_lexer": "ipython3",
   "version": "3.10.0"
  }
 },
 "nbformat": 4,
 "nbformat_minor": 5
}
