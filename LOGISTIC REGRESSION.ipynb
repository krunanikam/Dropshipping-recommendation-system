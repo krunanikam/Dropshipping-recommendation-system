{
 "cells": [
  {
   "cell_type": "code",
   "execution_count": 7,
   "id": "7dbf36a3",
   "metadata": {},
   "outputs": [],
   "source": [
    "import pandas as pd\n",
    "from sklearn.model_selection import train_test_split\n",
    "from sklearn.linear_model import LogisticRegression\n",
    "from sklearn.metrics import accuracy_score\n",
    "from sklearn.metrics import confusion_matrix\n",
    "import matplotlib as plt\n",
    "import seaborn as sns\n",
    "import matplotlib.pyplot as plt\n",
    "import seaborn as sns\n",
    "from sklearn.metrics import confusion_matrix"
   ]
  },
  {
   "cell_type": "code",
   "execution_count": 8,
   "id": "5479a459",
   "metadata": {},
   "outputs": [],
   "source": [
    "# Read the updated CSV file\n",
    "data = pd.read_csv(\"filtered_data.csv\")  # Replace with your actual CSV file name\n",
    "df = pd.DataFrame(data)\n"
   ]
  },
  {
   "cell_type": "code",
   "execution_count": 9,
   "id": "cafd9388",
   "metadata": {},
   "outputs": [],
   "source": [
    "# Map categorical \"Order_Priority\" values to numeric values\n",
    "order_priority_mapping = {\n",
    "    \"High\": 3,\n",
    "    \"Medium\": 2,\n",
    "    \"Low\": 1,\n",
    "    \"Not Specified\": 0,\n",
    "    \"Critical\": 0  # You mentioned mapping \"Critical\" to 0\n",
    "}\n",
    "\n",
    "# Map the \"Order_Priority\" column using the mapping\n",
    "df[\"Order_Priority\"] = df[\"Order_Priority\"].map(order_priority_mapping)\n"
   ]
  },
  {
   "cell_type": "code",
   "execution_count": 10,
   "id": "7ebdb0c6",
   "metadata": {},
   "outputs": [],
   "source": [
    "# Define the features (independent variables)\n",
    "X = df[['Sales', 'Order_Quantity', 'Profit', 'Order_Priority']]\n",
    "\n",
    "# Define the target variable (dependent variable)\n",
    "y = df['result']\n",
    "\n",
    "# Split the data into training and testing sets\n",
    "X_train, X_test, y_train, y_test = train_test_split(X, y, test_size=0.2, random_state=42)\n",
    "\n",
    "# Create and fit a Logistic Regression model\n",
    "model = LogisticRegression(random_state=42)\n",
    "model.fit(X_train, y_train)\n",
    "\n",
    "# Make predictions on the testing data\n",
    "y_pred = model.predict(X_test)"
   ]
  },
  {
   "cell_type": "code",
   "execution_count": 12,
   "id": "6bc2483a-fe7b-4de3-881b-198bc5a49944",
   "metadata": {},
   "outputs": [
    {
     "name": "stdout",
     "output_type": "stream",
     "text": [
      "Confusion Matrix:\n",
      "[[24  1]\n",
      " [ 1  4]]\n"
     ]
    },
    {
     "data": {
      "image/png": "[encoded data removed]",
      "text/plain": [
       "<Figure size 640x480 with 1 Axes>"
      ]
     },
     "metadata": {},
     "output_type": "display_data"
    }
   ],
   "source": [
    "#  you have already defined y_test and y_pred\n",
    "# Add a confusion matrix\n",
    "conf_matrix = confusion_matrix(y_test, y_pred)\n",
    "print('Confusion Matrix:')\n",
    "print(conf_matrix)\n",
    "\n",
    "# Create a heatmap for the confusion matrix\n",
    "sns.heatmap(conf_matrix, annot=True, fmt='d', cmap='Blues', cbar=False)\n",
    "plt.xlabel('Predicted')\n",
    "plt.ylabel('True')\n",
    "plt.title('Confusion Matrix')\n",
    "plt.show()"
   ]
  },
  {
   "cell_type": "code",
   "execution_count": 11,
   "id": "d701420d",
   "metadata": {},
   "outputs": [
    {
     "name": "stdout",
     "output_type": "stream",
     "text": [
      "Accuracy: 0.93\n"
     ]
    }
   ],
   "source": [
    "# Calculate accuracy for evaluation\n",
    "accuracy = accuracy_score(y_test, y_pred)\n",
    "\n",
    "print(f'Accuracy: {accuracy:.2f}')"
   ]
  },
  {
   "cell_type": "code",
   "execution_count": 35,
   "id": "d274260d",
   "metadata": {},
   "outputs": [
    {
     "name": "stdout",
     "output_type": "stream",
     "text": [
      "Predicted Product: No\n"
     ]
    }
   ],
   "source": [
    "# Create a new row of data for prediction\n",
    "new_data = {\n",
    "    'Sales': [1500],\n",
    "    'Order_Quantity': [100],\n",
    "    'Profit': [500],\n",
    "    'Order_Priority': [2]  # Replace with the desired order priority value (e.g., 2 for \"Medium\")\n",
    "}\n",
    "new_df = pd.DataFrame(new_data)\n",
    "\n",
    "# Make a prediction for the new data\n",
    "predicted_product = model.predict(new_df)\n",
    "\n",
    "if predicted_product[0] == 1:\n",
    "    print('Predicted Product: Yes')\n",
    "else:\n",
    "    print('Predicted Product: No')"
   ]
  },
  {
   "cell_type": "code",
   "execution_count": 7,
   "id": "981a4228",
   "metadata": {},
   "outputs": [],
   "source": [
    "# Load the trained Logistic Regression model\n",
    "model = LogisticRegression(random_state=42)\n",
    "model.fit(X_train, y_train)  # Assuming you have already trained the model\n",
    "\n",
    "# Read the test dataset\n",
    "test_data = pd.read_csv(\"test.csv\")  # Replace with the path to your \"test.csv\" file\n",
    "test_df = pd.DataFrame(test_data)\n",
    "\n",
    "# Map categorical \"Order_Priority\" values to numeric values\n",
    "test_df[\"Order_Priority\"] = test_df[\"Order_Priority\"].map(order_priority_mapping)\n",
    "\n",
    "# Define the features (independent variables) for the test dataset\n",
    "X_test = test_df[['Sales', 'Order_Quantity', 'Profit', 'Order_Priority']]\n",
    "\n",
    "# Make predictions on the test dataset\n",
    "test_predictions = model.predict(X_test)\n",
    "\n",
    "# Map binary predictions to \"Yes\" or \"No\"\n",
    "test_predictions = [\"Yes\" if pred == 1 else \"No\" for pred in test_predictions]\n",
    "\n",
    "# Add the \"Result\" column to the test dataset\n",
    "test_df[\"Result\"] = test_predictions\n",
    "\n",
    "# Save the updated test dataset with the \"Result\" column\n",
    "test_df.to_csv(\"test_with_results_logistic_regression.csv\", index=False)  # Replace with the desired output file name"
   ]
  }
 ],
 "metadata": {
  "kernelspec": {
   "display_name": "Python 3 (ipykernel)",
   "language": "python",
   "name": "python3"
  },
  "language_info": {
   "codemirror_mode": {
    "name": "ipython",
    "version": 3
   },
   "file_extension": ".py",
   "mimetype": "text/x-python",
   "name": "python",
   "nbconvert_exporter": "python",
   "pygments_lexer": "ipython3",
   "version": "3.11.5"
  }
 },
 "nbformat": 4,
 "nbformat_minor": 5
}
