{
 "cells": [
  {
   "cell_type": "code",
   "execution_count": 1,
   "id": "ba901a08",
   "metadata": {},
   "outputs": [],
   "source": [
    "import pandas as pd\n",
    "\n",
    "# Load your dataset\n",
    "# Replace 'your_dataset.csv' with the actual path to your dataset\n",
    "data = pd.read_csv('sales_dataset.csv')\n",
    "\n",
    "# List of column names to remove\n",
    "columns_to_remove = ['Product_Container', 'Ship_Mode', 'Customer_Name','Customer_Segment','Product_Sub-Category']\n",
    "\n",
    "# Use the .drop() method to remove the specified columns\n",
    "data = data.drop(columns=columns_to_remove)\n",
    "\n",
    "# Save the modified dataset if needed\n",
    "# Replace 'cleaned_dataset.csv' with the desired file name\n",
    "data.to_csv('cleaned_dataset.csv', index=False)"
   ]
  },
  {
   "cell_type": "code",
   "execution_count": 2,
   "id": "c7948912",
   "metadata": {},
   "outputs": [],
   "source": [
    "\n",
    "df = pd.read_csv('cleaned_dataset.csv')\n",
    "\n",
    "# Specify the column in which you want to remove negative values\n",
    "column_to_check = 'Profit'\n",
    "\n",
    "# Filter the DataFrame to keep only rows where the specified column is non-negative\n",
    "df = df[df[column_to_check] >= 0]\n",
    "\n",
    "# Print the resulting DataFrame\n",
    "#print(df)\n",
    "df.to_csv('final_dataset.csv', index=False)"
   ]
  },
  {
   "cell_type": "code",
   "execution_count": null,
   "id": "c7b8eafb",
   "metadata": {},
   "outputs": [],
   "source": []
  },
  {
   "cell_type": "code",
   "execution_count": null,
   "id": "fba952c4",
   "metadata": {},
   "outputs": [],
   "source": []
  }
 ],
 "metadata": {
  "kernelspec": {
   "display_name": "Python 3 (ipykernel)",
   "language": "python",
   "name": "python3"
  },
  "language_info": {
   "codemirror_mode": {
    "name": "ipython",
    "version": 3
   },
   "file_extension": ".py",
   "mimetype": "text/x-python",
   "name": "python",
   "nbconvert_exporter": "python",
   "pygments_lexer": "ipython3",
   "version": "3.10.0"
  }
 },
 "nbformat": 4,
 "nbformat_minor": 5
}
